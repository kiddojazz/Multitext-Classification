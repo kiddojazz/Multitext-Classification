{
  "cells": [
    {
      "cell_type": "code",
      "source": [
        "from google.colab import drive\n",
        "drive.mount('/content/drive')"
      ],
      "metadata": {
        "colab": {
          "base_uri": "https://localhost:8080/"
        },
        "id": "GsPTWNQ3mubO",
        "outputId": "cfd25d70-f062-46ab-ab37-d7ae51fc6fce"
      },
      "id": "GsPTWNQ3mubO",
      "execution_count": null,
      "outputs": [
        {
          "output_type": "stream",
          "name": "stdout",
          "text": [
            "Mounted at /content/drive\n"
          ]
        }
      ]
    },
    {
      "cell_type": "code",
      "source": [
        "%cd /content/drive/My Drive/Multitext Classification Using Transformers/"
      ],
      "metadata": {
        "colab": {
          "base_uri": "https://localhost:8080/"
        },
        "id": "JaYnz9K0muPk",
        "outputId": "44524ebf-ccd7-4c6d-9284-a95c9a3885c9"
      },
      "id": "JaYnz9K0muPk",
      "execution_count": null,
      "outputs": [
        {
          "output_type": "stream",
          "name": "stdout",
          "text": [
            "/content/drive/My Drive/Multitext Classification Using Transformers\n"
          ]
        }
      ]
    },
    {
      "cell_type": "markdown",
      "id": "84233db0-c203-4c97-b13f-da554d1bf9dc",
      "metadata": {
        "id": "84233db0-c203-4c97-b13f-da554d1bf9dc"
      },
      "source": [
        "# Step 1: Import All Necessary Libraries"
      ]
    },
    {
      "cell_type": "code",
      "execution_count": null,
      "id": "dc1acc85",
      "metadata": {
        "id": "dc1acc85"
      },
      "outputs": [],
      "source": [
        "from transformers import DistilBertTokenizer\n",
        "from transformers import TFDistilBertForSequenceClassification\n",
        "import tensorflow as tf\n",
        "import pandas as pd\n",
        "import keras"
      ]
    },
    {
      "cell_type": "markdown",
      "id": "665d1c13-fc74-4b8a-857e-ba0ed4d1e3a2",
      "metadata": {
        "id": "665d1c13-fc74-4b8a-857e-ba0ed4d1e3a2"
      },
      "source": [
        "## Step 2: Read File from GitHub Repository"
      ]
    },
    {
      "cell_type": "code",
      "execution_count": null,
      "id": "ade29ad4-a8d6-4389-9cd1-6988afed84b6",
      "metadata": {
        "colab": {
          "base_uri": "https://localhost:8080/"
        },
        "id": "ade29ad4-a8d6-4389-9cd1-6988afed84b6",
        "outputId": "fb7f4308-500c-4b2c-9f7c-2decd6794424"
      },
      "outputs": [
        {
          "output_type": "stream",
          "name": "stdout",
          "text": [
            "                                                data         labels\n",
            "0  Musicians to tackle US red tape  Musicians gro...  entertainment\n",
            "1  U2s desire to be number one  U2, who have won ...  entertainment\n",
            "2  Rocker Doherty in on-stage fight  Rock singer ...  entertainment\n",
            "3  Snicket tops US box office chart  The film ada...  entertainment\n",
            "4  Oceans Twelve raids box office  Oceans Twelve,...  entertainment\n"
          ]
        }
      ],
      "source": [
        "url = 'https://github.com/kiddojazz/Multitext-Classification/blob/master/bbc_data.csv?raw=true'\n",
        "#df = pd.read_csv(url,index_col=0)\n",
        "df = pd.read_csv(url)\n",
        "print(df.head(5))"
      ]
    },
    {
      "cell_type": "markdown",
      "id": "9e298b21-b972-43c2-8e32-bbcd8cc0c890",
      "metadata": {
        "id": "9e298b21-b972-43c2-8e32-bbcd8cc0c890"
      },
      "source": [
        "## Step 3: Data Cleaning and Preprocessing"
      ]
    },
    {
      "cell_type": "code",
      "execution_count": null,
      "id": "c88be4e7-5a08-4276-ab1d-54a32929303c",
      "metadata": {
        "colab": {
          "base_uri": "https://localhost:8080/"
        },
        "id": "c88be4e7-5a08-4276-ab1d-54a32929303c",
        "outputId": "c036f0bc-cc26-4bbc-9283-590fe1bef099"
      },
      "outputs": [
        {
          "output_type": "execute_result",
          "data": {
            "text/plain": [
              "array(['entertainment', 'unknown', 'business', 'sport', 'politics',\n",
              "       'tech'], dtype=object)"
            ]
          },
          "metadata": {},
          "execution_count": 6
        }
      ],
      "source": [
        "#Get the Unique Items from the label column\n",
        "df['labels'].unique()"
      ]
    },
    {
      "cell_type": "markdown",
      "id": "077ca057-1bc8-42aa-bef0-dc55ad5057be",
      "metadata": {
        "id": "077ca057-1bc8-42aa-bef0-dc55ad5057be"
      },
      "source": [
        "### Filter out Unknown category"
      ]
    },
    {
      "cell_type": "code",
      "execution_count": null,
      "id": "29b65a2f-1309-42c4-baa3-c28f6caeed22",
      "metadata": {
        "colab": {
          "base_uri": "https://localhost:8080/"
        },
        "id": "29b65a2f-1309-42c4-baa3-c28f6caeed22",
        "outputId": "9b3ab198-36e4-47ab-cfb8-70dbfa3a1d18"
      },
      "outputs": [
        {
          "output_type": "stream",
          "name": "stdout",
          "text": [
            "                                                data         labels\n",
            "0  Musicians to tackle US red tape  Musicians gro...  entertainment\n",
            "1  U2s desire to be number one  U2, who have won ...  entertainment\n",
            "2  Rocker Doherty in on-stage fight  Rock singer ...  entertainment\n",
            "3  Snicket tops US box office chart  The film ada...  entertainment\n",
            "4  Oceans Twelve raids box office  Oceans Twelve,...  entertainment\n"
          ]
        }
      ],
      "source": [
        "# Filter out rows where the labels are 'unknown'\n",
        "df = df[df['labels'] != 'unknown']\n",
        "\n",
        "# Print the filtered DataFrame\n",
        "print(df.head())"
      ]
    },
    {
      "cell_type": "code",
      "execution_count": null,
      "id": "5812ba31-5da4-4dd0-bbe3-2c625701c0db",
      "metadata": {
        "colab": {
          "base_uri": "https://localhost:8080/"
        },
        "id": "5812ba31-5da4-4dd0-bbe3-2c625701c0db",
        "outputId": "52e30455-ccae-4b6e-e4bf-e11e27729368"
      },
      "outputs": [
        {
          "output_type": "execute_result",
          "data": {
            "text/plain": [
              "array(['entertainment', 'business', 'sport', 'politics', 'tech'],\n",
              "      dtype=object)"
            ]
          },
          "metadata": {},
          "execution_count": 8
        }
      ],
      "source": [
        "#Get the Unique Items from the label column\n",
        "df['labels'].unique()"
      ]
    },
    {
      "cell_type": "markdown",
      "id": "58229cfa-3e55-4782-b72d-dcbcbb87af07",
      "metadata": {
        "id": "58229cfa-3e55-4782-b72d-dcbcbb87af07"
      },
      "source": [
        "### Encode Label Category"
      ]
    },
    {
      "cell_type": "code",
      "execution_count": null,
      "id": "304c51a0-885f-453d-9b7b-2cad6d94bb53",
      "metadata": {
        "colab": {
          "base_uri": "https://localhost:8080/"
        },
        "id": "304c51a0-885f-453d-9b7b-2cad6d94bb53",
        "outputId": "2492282a-ef81-4ff4-cbac-1c53afeaeec4"
      },
      "outputs": [
        {
          "output_type": "stream",
          "name": "stdout",
          "text": [
            "                                                data         labels  \\\n",
            "0  Musicians to tackle US red tape  Musicians gro...  entertainment   \n",
            "1  U2s desire to be number one  U2, who have won ...  entertainment   \n",
            "2  Rocker Doherty in on-stage fight  Rock singer ...  entertainment   \n",
            "3  Snicket tops US box office chart  The film ada...  entertainment   \n",
            "4  Oceans Twelve raids box office  Oceans Twelve,...  entertainment   \n",
            "\n",
            "   encoded_cat  \n",
            "0            1  \n",
            "1            1  \n",
            "2            1  \n",
            "3            1  \n",
            "4            1  \n"
          ]
        },
        {
          "output_type": "stream",
          "name": "stderr",
          "text": [
            "<ipython-input-9-f44228b8adf3>:2: SettingWithCopyWarning: \n",
            "A value is trying to be set on a copy of a slice from a DataFrame.\n",
            "Try using .loc[row_indexer,col_indexer] = value instead\n",
            "\n",
            "See the caveats in the documentation: https://pandas.pydata.org/pandas-docs/stable/user_guide/indexing.html#returning-a-view-versus-a-copy\n",
            "  df['encoded_cat'] = df['labels'].astype('category').cat.codes\n"
          ]
        }
      ],
      "source": [
        "#Encode label for easy identification.\n",
        "df['encoded_cat'] = df['labels'].astype('category').cat.codes\n",
        "print(df.head())"
      ]
    },
    {
      "cell_type": "code",
      "execution_count": null,
      "id": "04a9405d-235f-4456-8035-bcdcc729f9f4",
      "metadata": {
        "colab": {
          "base_uri": "https://localhost:8080/"
        },
        "id": "04a9405d-235f-4456-8035-bcdcc729f9f4",
        "outputId": "3fca9702-612b-4a59-c337-fba4e6177d0d"
      },
      "outputs": [
        {
          "output_type": "execute_result",
          "data": {
            "text/plain": [
              "array([1, 0, 3, 2, 4], dtype=int8)"
            ]
          },
          "metadata": {},
          "execution_count": 10
        }
      ],
      "source": [
        "df['encoded_cat'].unique()"
      ]
    },
    {
      "cell_type": "code",
      "execution_count": null,
      "id": "bc3046c7-67fd-4775-a1bc-36b5ffb969a1",
      "metadata": {
        "colab": {
          "base_uri": "https://localhost:8080/"
        },
        "id": "bc3046c7-67fd-4775-a1bc-36b5ffb969a1",
        "outputId": "543690b7-a7c3-44e6-c423-741744753c3f"
      },
      "outputs": [
        {
          "output_type": "stream",
          "name": "stdout",
          "text": [
            "                                                   data labels  encoded_cat\n",
            "1824  Mobiles rack up 20 years of use  Mobile phones...   tech            4\n",
            "1825  Broadband steams ahead in the US  More and mor...   tech            4\n",
            "1826  EA to take on film and TV giants  Video game g...   tech            4\n",
            "1827  Microsoft releases patches  Microsoft has warn...   tech            4\n",
            "1828  China to overtake US net use  The Chinese net-...   tech            4\n",
            "...                                                 ...    ...          ...\n",
            "2220  Warning over Windows Word files  Writing a Mic...   tech            4\n",
            "2221  Fast lifts rise into record books  Two high-sp...   tech            4\n",
            "2222  Nintendo adds media playing to DS  Nintendo is...   tech            4\n",
            "2223  Fast moving phone viruses appear  Security fir...   tech            4\n",
            "2224  Hacker threat to Apples iTunes  Users of Apple...   tech            4\n",
            "\n",
            "[364 rows x 3 columns]\n"
          ]
        }
      ],
      "source": [
        "filtered_df = df[df['encoded_cat'] == 4]\n",
        "\n",
        "# Print the filtered DataFrame\n",
        "print(filtered_df)"
      ]
    },
    {
      "cell_type": "markdown",
      "id": "61787fe5-0ebc-4f4b-89f4-b6bb4d359ee3",
      "metadata": {
        "id": "61787fe5-0ebc-4f4b-89f4-b6bb4d359ee3"
      },
      "source": [
        "Business = 0, Entertainment = 1, Politics = 2, Sport = 3, Tech = 4"
      ]
    },
    {
      "cell_type": "markdown",
      "id": "26942dfa-c360-44af-808d-df1761fae7a5",
      "metadata": {
        "id": "26942dfa-c360-44af-808d-df1761fae7a5"
      },
      "source": [
        "## Step 4: Model Preparation"
      ]
    },
    {
      "cell_type": "markdown",
      "id": "fe41c51d-34d2-415a-90ae-c21159b6176f",
      "metadata": {
        "id": "fe41c51d-34d2-415a-90ae-c21159b6176f"
      },
      "source": [
        "### Split DataFrame to Feature and Label"
      ]
    },
    {
      "cell_type": "code",
      "execution_count": null,
      "id": "18dd283b-6be0-418d-9aa2-e3f66313e07b",
      "metadata": {
        "id": "18dd283b-6be0-418d-9aa2-e3f66313e07b"
      },
      "outputs": [],
      "source": [
        "data_texts = df[\"data\"].to_list() # Features (not-tokenized yet)\n",
        "data_labels = df[\"encoded_cat\"].to_list() # Labels"
      ]
    },
    {
      "cell_type": "code",
      "execution_count": null,
      "id": "54806d74-bd6d-4823-ade0-aba10c2ef92f",
      "metadata": {
        "id": "54806d74-bd6d-4823-ade0-aba10c2ef92f"
      },
      "outputs": [],
      "source": [
        "#Install scikit-learn\n",
        "#!pip install scikit-learn"
      ]
    },
    {
      "cell_type": "markdown",
      "id": "39849fdb-f2d7-419b-90a1-4abcaf4ff224",
      "metadata": {
        "id": "39849fdb-f2d7-419b-90a1-4abcaf4ff224"
      },
      "source": [
        "### Split to Train and Test using SKlearn"
      ]
    },
    {
      "cell_type": "code",
      "execution_count": null,
      "id": "db913a76-baa6-41fe-932d-231580d81bdf",
      "metadata": {
        "id": "db913a76-baa6-41fe-932d-231580d81bdf"
      },
      "outputs": [],
      "source": [
        "from sklearn.model_selection import train_test_split\n",
        "\n",
        "# Split Train and Validation data\n",
        "train_texts, val_texts, train_labels, val_labels = train_test_split(data_texts, data_labels, test_size=0.2, random_state=0, shuffle=True)\n",
        "\n",
        "# Keep some data for inference (testing)\n",
        "train_texts, test_texts, train_labels, test_labels = train_test_split(train_texts, train_labels, test_size=0.01, random_state=0, shuffle=True)"
      ]
    },
    {
      "cell_type": "markdown",
      "id": "08661a97-c840-453b-9a53-7bbed9a3998d",
      "metadata": {
        "id": "08661a97-c840-453b-9a53-7bbed9a3998d"
      },
      "source": [
        "### Download Model needed from Transformers Library"
      ]
    },
    {
      "cell_type": "code",
      "execution_count": null,
      "id": "f25b549e-6ce0-41dd-9f05-2c38d3a0ce1d",
      "metadata": {
        "id": "f25b549e-6ce0-41dd-9f05-2c38d3a0ce1d"
      },
      "outputs": [],
      "source": [
        "tokenizer = DistilBertTokenizer.from_pretrained('distilbert-base-uncased')\n",
        "train_encodings = tokenizer(train_texts, truncation=True, padding=True, max_length=512)\n",
        "val_encodings = tokenizer(val_texts, truncation=True, padding=True, max_length=512)\n",
        "\n",
        "# train_encodings = tokenizer(train_texts, truncation=True, padding=True)\n",
        "# val_encodings = tokenizer(val_texts, truncation=True, padding=True)"
      ]
    },
    {
      "cell_type": "markdown",
      "id": "b1b502ae-583a-47b1-8e8e-1196690b9fd5",
      "metadata": {
        "id": "b1b502ae-583a-47b1-8e8e-1196690b9fd5"
      },
      "source": [
        "### Create TensorFlow Dataset"
      ]
    },
    {
      "cell_type": "code",
      "execution_count": null,
      "id": "dffe412e-e6ba-495e-b51f-acf2b6998871",
      "metadata": {
        "id": "dffe412e-e6ba-495e-b51f-acf2b6998871"
      },
      "outputs": [],
      "source": [
        "train_dataset = tf.data.Dataset.from_tensor_slices((\n",
        "    dict(train_encodings),\n",
        "    train_labels\n",
        "))\n",
        "val_dataset = tf.data.Dataset.from_tensor_slices((\n",
        "    dict(val_encodings),\n",
        "    val_labels\n",
        "))"
      ]
    },
    {
      "cell_type": "markdown",
      "id": "23a5a75b-b570-4471-bcc5-183d04623830",
      "metadata": {
        "id": "23a5a75b-b570-4471-bcc5-183d04623830"
      },
      "source": [
        "### TFTrainer class for Fine-tuning"
      ]
    },
    {
      "cell_type": "code",
      "execution_count": null,
      "id": "c270f1a0-0be7-4d8d-9590-5c4a86347f60",
      "metadata": {
        "colab": {
          "base_uri": "https://localhost:8080/"
        },
        "id": "c270f1a0-0be7-4d8d-9590-5c4a86347f60",
        "outputId": "75533702-60e5-4380-935f-adee433f1d3e"
      },
      "outputs": [
        {
          "output_type": "stream",
          "name": "stderr",
          "text": [
            "Some weights of the PyTorch model were not used when initializing the TF 2.0 model TFDistilBertForSequenceClassification: ['vocab_transform.weight', 'vocab_projector.bias', 'vocab_layer_norm.weight', 'vocab_transform.bias', 'vocab_layer_norm.bias']\n",
            "- This IS expected if you are initializing TFDistilBertForSequenceClassification from a PyTorch model trained on another task or with another architecture (e.g. initializing a TFBertForSequenceClassification model from a BertForPreTraining model).\n",
            "- This IS NOT expected if you are initializing TFDistilBertForSequenceClassification from a PyTorch model that you expect to be exactly identical (e.g. initializing a TFBertForSequenceClassification model from a BertForSequenceClassification model).\n",
            "Some weights or buffers of the TF 2.0 model TFDistilBertForSequenceClassification were not initialized from the PyTorch model and are newly initialized: ['pre_classifier.weight', 'pre_classifier.bias', 'classifier.weight', 'classifier.bias']\n",
            "You should probably TRAIN this model on a down-stream task to be able to use it for predictions and inference.\n"
          ]
        }
      ],
      "source": [
        "model = TFDistilBertForSequenceClassification.from_pretrained('distilbert-base-uncased', num_labels=5)\n",
        "\n",
        "optimizer = tf.keras.optimizers.Adam(learning_rate=5e-5, epsilon=1e-08)\n",
        "model.compile(optimizer=optimizer, loss=model.hf_compute_loss, metrics=['accuracy'])"
      ]
    },
    {
      "cell_type": "markdown",
      "id": "7c0e386d-0a88-4f1e-aaff-61de99e2e405",
      "metadata": {
        "id": "7c0e386d-0a88-4f1e-aaff-61de99e2e405"
      },
      "source": [
        "### Train model using Tensorflow:\n",
        "This was set to 2 epochs or iteration, for better accuracy we might need to increase the number of iteration and parameter tuning."
      ]
    },
    {
      "cell_type": "code",
      "execution_count": null,
      "id": "9ddf3fff-f608-4c78-96ab-2a195ae9a470",
      "metadata": {
        "colab": {
          "base_uri": "https://localhost:8080/"
        },
        "id": "9ddf3fff-f608-4c78-96ab-2a195ae9a470",
        "outputId": "bdbef063-88bf-485b-8741-d72d8f19f527"
      },
      "outputs": [
        {
          "output_type": "stream",
          "name": "stdout",
          "text": [
            "Epoch 1/2\n",
            "101/101 [==============================] - 135s 1s/step - loss: 0.4506 - accuracy: 0.8998 - val_loss: 0.1057 - val_accuracy: 0.9756\n",
            "Epoch 2/2\n",
            "101/101 [==============================] - 103s 1s/step - loss: 0.0648 - accuracy: 0.9870 - val_loss: 0.1093 - val_accuracy: 0.9658\n"
          ]
        },
        {
          "output_type": "execute_result",
          "data": {
            "text/plain": [
              "<tf_keras.src.callbacks.History at 0x7e82dc3225c0>"
            ]
          },
          "metadata": {},
          "execution_count": 22
        }
      ],
      "source": [
        "#from tensorflow.keras.callbacks import EarlyStopping\n",
        "\n",
        "early_stopping = tf.keras.callbacks.EarlyStopping(monitor='val_loss', patience=3, restore_best_weights=True)\n",
        "\n",
        "model.fit(train_dataset.shuffle(1000).batch(16),\n",
        "          epochs=2,\n",
        "          batch_size=16,\n",
        "          validation_data=val_dataset.shuffle(1000).batch(16),\n",
        "         callbacks=[early_stopping])"
      ]
    },
    {
      "cell_type": "code",
      "execution_count": null,
      "id": "caceec1d-8e0f-4c77-9c3a-e8ea06f3c416",
      "metadata": {
        "colab": {
          "base_uri": "https://localhost:8080/"
        },
        "id": "caceec1d-8e0f-4c77-9c3a-e8ea06f3c416",
        "outputId": "cd062c24-6f58-4af1-f795-b97019885e00"
      },
      "outputs": [
        {
          "output_type": "stream",
          "name": "stdout",
          "text": [
            "Model: \"tf_distil_bert_for_sequence_classification_1\"\n",
            "_________________________________________________________________\n",
            " Layer (type)                Output Shape              Param #   \n",
            "=================================================================\n",
            " distilbert (TFDistilBertMa  multiple                  66362880  \n",
            " inLayer)                                                        \n",
            "                                                                 \n",
            " pre_classifier (Dense)      multiple                  590592    \n",
            "                                                                 \n",
            " classifier (Dense)          multiple                  3845      \n",
            "                                                                 \n",
            " dropout_39 (Dropout)        multiple                  0         \n",
            "                                                                 \n",
            "=================================================================\n",
            "Total params: 66957317 (255.42 MB)\n",
            "Trainable params: 66957317 (255.42 MB)\n",
            "Non-trainable params: 0 (0.00 Byte)\n",
            "_________________________________________________________________\n"
          ]
        }
      ],
      "source": [
        "# Display the model's architecture\n",
        "model.summary()"
      ]
    },
    {
      "cell_type": "markdown",
      "id": "b8a6e2bd-baca-4500-a94b-0aba98e2790c",
      "metadata": {
        "id": "b8a6e2bd-baca-4500-a94b-0aba98e2790c"
      },
      "source": [
        "### Save Trained Model in Local Directory"
      ]
    },
    {
      "cell_type": "code",
      "execution_count": null,
      "id": "0115c411-41ad-4fbc-a83c-64c1bb3c1cf1",
      "metadata": {
        "id": "0115c411-41ad-4fbc-a83c-64c1bb3c1cf1"
      },
      "outputs": [],
      "source": [
        "from tensorflow.keras.models import load_model"
      ]
    },
    {
      "cell_type": "code",
      "execution_count": null,
      "id": "73c88bf1-470a-4491-8ed2-b4e5573ec5fc",
      "metadata": {
        "colab": {
          "base_uri": "https://localhost:8080/"
        },
        "id": "73c88bf1-470a-4491-8ed2-b4e5573ec5fc",
        "outputId": "8028e503-aa0d-4879-db16-f043b7d0d418"
      },
      "outputs": [
        {
          "output_type": "execute_result",
          "data": {
            "text/plain": [
              "('Multitext_Classification_colab/tokenizer_config.json',\n",
              " 'Multitext_Classification_colab/special_tokens_map.json',\n",
              " 'Multitext_Classification_colab/vocab.txt',\n",
              " 'Multitext_Classification_colab/added_tokens.json')"
            ]
          },
          "metadata": {},
          "execution_count": 25
        }
      ],
      "source": [
        "save_directory = \"Multitext_Classification_colab\" # Change this to your preferred location\n",
        "\n",
        "model.save_pretrained(save_directory)\n",
        "tokenizer.save_pretrained(save_directory)"
      ]
    },
    {
      "cell_type": "code",
      "execution_count": null,
      "id": "2237cda2-8d51-47ac-8968-5b0cbdfe36ed",
      "metadata": {
        "colab": {
          "base_uri": "https://localhost:8080/"
        },
        "id": "2237cda2-8d51-47ac-8968-5b0cbdfe36ed",
        "outputId": "fbe0854d-cdd8-4f17-c10e-c685b6f71a03"
      },
      "outputs": [
        {
          "output_type": "stream",
          "name": "stderr",
          "text": [
            "Some layers from the model checkpoint at Multitext_Classification_colab were not used when initializing TFDistilBertForSequenceClassification: ['dropout_39']\n",
            "- This IS expected if you are initializing TFDistilBertForSequenceClassification from the checkpoint of a model trained on another task or with another architecture (e.g. initializing a BertForSequenceClassification model from a BertForPreTraining model).\n",
            "- This IS NOT expected if you are initializing TFDistilBertForSequenceClassification from the checkpoint of a model that you expect to be exactly identical (initializing a BertForSequenceClassification model from a BertForSequenceClassification model).\n",
            "Some layers of TFDistilBertForSequenceClassification were not initialized from the model checkpoint at Multitext_Classification_colab and are newly initialized: ['dropout_59']\n",
            "You should probably TRAIN this model on a down-stream task to be able to use it for predictions and inference.\n"
          ]
        }
      ],
      "source": [
        "save_directory = \"Multitext_Classification_colab\"\n",
        "loaded_tokenizer = DistilBertTokenizer.from_pretrained(save_directory)\n",
        "loaded_model = TFDistilBertForSequenceClassification.from_pretrained(save_directory)"
      ]
    },
    {
      "cell_type": "markdown",
      "id": "b0cfcf7b-33ca-41b2-a781-261b0f6b0685",
      "metadata": {
        "id": "b0cfcf7b-33ca-41b2-a781-261b0f6b0685"
      },
      "source": [
        "## Test Model"
      ]
    },
    {
      "cell_type": "code",
      "execution_count": null,
      "id": "bdfa80b4-76b3-4da6-af3d-497df13ca969",
      "metadata": {
        "colab": {
          "base_uri": "https://localhost:8080/",
          "height": 145
        },
        "id": "bdfa80b4-76b3-4da6-af3d-497df13ca969",
        "outputId": "c73f5d64-4e7a-4d97-b072-cd99aa543bbc"
      },
      "outputs": [
        {
          "output_type": "execute_result",
          "data": {
            "text/plain": [
              "'Mobiles double up as bus tickets  Mobiles could soon double up as travel cards, with Nokia planning to try out a wireless ticket system on German buses.  Early next year travellers in the city of Hanau, near Frankfurt, will be able to pay for tickets by passing their phone over a smart-card reader already installed on the buses. Passengers will need to own a Nokia 3220 handset which will have a special shell attached to it. The system would reduce queues and make travelling easier, said Nokia.  Transport systems around the world are seeing the advantage of using ticketless smartcards. Using a mobile phone is the next step, said Gerhard Romen, head of market development at Nokia.  The ticketless trial will start early in 2005 and people will also be able to access transport information and timetables via their phones. Nokia has worked with electronics giant Philips to develop a shell for the mobile phone that will be compatible with Hanaus existing ticketing system. The system opens up possibilities for mobile devices to be interact with everyday environments, said Mr Romen. \"It could be used in shops to get product information, at bus-stops to get information about the next bus or, for example, by being passed over an advert of a rock star to find out details of concerts or get ringtones,\" he told the BBC News website. He is confident that the trial being run in Germany could be extended to transport systems in other countries. \"The technology offers access to a lot of services and makes it easy to get the information you want,\" he said. '"
            ],
            "application/vnd.google.colaboratory.intrinsic+json": {
              "type": "string"
            }
          },
          "metadata": {},
          "execution_count": 28
        }
      ],
      "source": [
        "test_text = test_texts[10]\n",
        "test_text"
      ]
    },
    {
      "cell_type": "code",
      "execution_count": null,
      "id": "22cf6120-64af-4d44-8e86-b997aac3f3a9",
      "metadata": {
        "id": "22cf6120-64af-4d44-8e86-b997aac3f3a9"
      },
      "outputs": [],
      "source": [
        "#test_text = ['Oscar nominee Dan OHerlihy dies  Irish actor Dan OHerlihy, who was nominated for best actor at the 1955 Oscars, has died at the age of 85.  OHerlihy, whose Oscar nomination was for Luis Bunuels The Adventures of Robinson Crusoe, died at his home in Malibu, California, a spokesman said. The actor began his film career in the 1940s, playing Macduff to Orson Welles Macbeth in 1948, and was also a regular in on the Dublin stage. He later appeared in Robocop and its sequel and cult TV show Twin Peaks. He played the CEO of Omni Consumer Products in 1987s Robocop and Robocop 2 three years later, and was saw mill owner Andrew Packard in Twin Peaks, also in 1990. Despite his Oscar nomination, he had few other lead roles and became a familiar supporting actor on TV and in film. The year he was nominated, the Academy Award was won by Marlon Brando for On the Waterfront. \"']"
      ]
    },
    {
      "cell_type": "code",
      "execution_count": null,
      "id": "af95bf34-e872-49b8-8bb9-4cab2e9889ef",
      "metadata": {
        "colab": {
          "base_uri": "https://localhost:8080/"
        },
        "id": "af95bf34-e872-49b8-8bb9-4cab2e9889ef",
        "outputId": "a35436e3-2757-4522-9d8b-3e7b7a3fe28f"
      },
      "outputs": [
        {
          "output_type": "stream",
          "name": "stderr",
          "text": [
            "Asking to truncate to max_length but no maximum length is provided and the model has no predefined maximum length. Default to no truncation.\n"
          ]
        },
        {
          "output_type": "execute_result",
          "data": {
            "text/plain": [
              "4"
            ]
          },
          "metadata": {},
          "execution_count": 29
        }
      ],
      "source": [
        "predict_input = loaded_tokenizer.encode(test_text,\n",
        "                                 truncation=True,\n",
        "                                 padding=True,\n",
        "                                 return_tensors=\"tf\")\n",
        "\n",
        "output = loaded_model(predict_input)[0]\n",
        "\n",
        "prediction_value = tf.argmax(output, axis=1).numpy()[0]\n",
        "prediction_value"
      ]
    },
    {
      "cell_type": "markdown",
      "id": "d88947a4-1b2a-45b0-a1d1-33da510440da",
      "metadata": {
        "id": "d88947a4-1b2a-45b0-a1d1-33da510440da"
      },
      "source": [
        "### Categories Output\n",
        "Business = 0, Entertainment = 1, Politics = 2, Sport = 3, Tech = 4"
      ]
    },
    {
      "cell_type": "code",
      "execution_count": null,
      "id": "178b5a0f-0c65-4b61-af66-adeda8a351cd",
      "metadata": {
        "colab": {
          "base_uri": "https://localhost:8080/"
        },
        "id": "178b5a0f-0c65-4b61-af66-adeda8a351cd",
        "outputId": "0b5cf042-600f-44c9-dfda-61243a4c79ce"
      },
      "outputs": [
        {
          "output_type": "stream",
          "name": "stdout",
          "text": [
            "🤖Predicted Category: Tech\n"
          ]
        }
      ],
      "source": [
        "predict_input = loaded_tokenizer.encode(test_text,\n",
        "                                 truncation=True,\n",
        "                                 padding=True,\n",
        "                                 return_tensors=\"tf\")\n",
        "\n",
        "output = loaded_model(predict_input)[0]\n",
        "\n",
        "prediction_value = tf.argmax(output, axis=1).numpy()[0]\n",
        "\n",
        "# Convert numeric prediction to category label\n",
        "if prediction_value == 0:\n",
        "    prediction_label = \"Business\"\n",
        "elif prediction_value == 1:\n",
        "    prediction_label = \"Entertainment\"\n",
        "elif prediction_value == 2:\n",
        "    prediction_label = \"Politics\"\n",
        "elif prediction_value == 3:\n",
        "    prediction_label = \"Sport\"\n",
        "else:\n",
        "    prediction_label = \"Tech\"  # Handle unexpected values if necessary\n",
        "\n",
        "print(\"🤖Predicted Category:\", prediction_label)\n"
      ]
    },
    {
      "cell_type": "markdown",
      "id": "3c7539f8-2a06-4445-a857-6a1cce8d3f8a",
      "metadata": {
        "id": "3c7539f8-2a06-4445-a857-6a1cce8d3f8a"
      },
      "source": [
        "**Business = 0, Entertainment = 1, Politics = 2, Sport = 3, Tech = 4**"
      ]
    },
    {
      "cell_type": "code",
      "source": [
        "def predict_category(text):\n",
        "\n",
        "    predict_input = loaded_tokenizer.encode(text,\n",
        "                                 truncation=True,\n",
        "                                 padding=True,\n",
        "                                 return_tensors=\"tf\")\n",
        "\n",
        "    output = loaded_model(predict_input)[0]\n",
        "\n",
        "    prediction_value = tf.argmax(output, axis=1).numpy()[0]\n",
        "\n",
        "    return prediction_value\n",
        "# -----------------------------------------------------\n",
        "y_pred = []\n",
        "for text_ in test_texts:\n",
        "    y_pred.append(predict_category(text_))"
      ],
      "metadata": {
        "id": "-OKVefv2uv9L"
      },
      "id": "-OKVefv2uv9L",
      "execution_count": null,
      "outputs": []
    },
    {
      "cell_type": "code",
      "source": [
        "y_pred[10]"
      ],
      "metadata": {
        "colab": {
          "base_uri": "https://localhost:8080/"
        },
        "id": "lMOUCP5tu0xt",
        "outputId": "58b1b8a6-47e2-455d-a76f-f0b3db861238"
      },
      "id": "lMOUCP5tu0xt",
      "execution_count": null,
      "outputs": [
        {
          "output_type": "execute_result",
          "data": {
            "text/plain": [
              "4"
            ]
          },
          "metadata": {},
          "execution_count": 32
        }
      ]
    },
    {
      "cell_type": "code",
      "source": [
        "len (test_labels)"
      ],
      "metadata": {
        "colab": {
          "base_uri": "https://localhost:8080/"
        },
        "id": "h3F0vIAcu0ws",
        "outputId": "efaa620a-4ef3-4ac1-d175-e2b791c7cd75"
      },
      "id": "h3F0vIAcu0ws",
      "execution_count": null,
      "outputs": [
        {
          "output_type": "execute_result",
          "data": {
            "text/plain": [
              "17"
            ]
          },
          "metadata": {},
          "execution_count": 33
        }
      ]
    },
    {
      "cell_type": "code",
      "execution_count": null,
      "id": "a64c4bf3-d4a4-4d06-9e66-27478ec56175",
      "metadata": {
        "colab": {
          "base_uri": "https://localhost:8080/",
          "height": 692
        },
        "id": "a64c4bf3-d4a4-4d06-9e66-27478ec56175",
        "outputId": "a8c23f52-06fe-4233-9571-79afbb5c6f9f"
      },
      "outputs": [
        {
          "output_type": "display_data",
          "data": {
            "text/plain": [
              "<Figure size 800x600 with 1 Axes>"
            ],
            "image/png": "[encoded data removed]"
          },
          "metadata": {}
        }
      ],
      "source": [
        "\n",
        "from sklearn.metrics import confusion_matrix\n",
        "from sklearn.metrics import classification_report\n",
        "import matplotlib.pyplot as plt\n",
        "import seaborn as sns\n",
        "\n",
        "confusion = confusion_matrix(test_labels, y_pred)\n",
        "\n",
        "plt.figure(figsize=(8, 6))\n",
        "sns.set(font_scale=1.2)\n",
        "sns.heatmap(confusion, annot=True, fmt=\"d\", cmap=\"Blues\", cbar=False, square=True,\n",
        "            xticklabels=[\"Business\", \"Entertainment\", \"Politics\", \"Sport\", \"Tech\"], yticklabels=[\"Business\", \"Entertainment\", \"Politics\", \"Sport\", \"Tech\"])\n",
        "plt.xlabel('Predicted')\n",
        "plt.ylabel('True')\n",
        "plt.title('Confusion Matrix')\n",
        "plt.show()"
      ]
    },
    {
      "cell_type": "code",
      "source": [
        "print(classification_report(test_labels, y_pred))"
      ],
      "metadata": {
        "colab": {
          "base_uri": "https://localhost:8080/"
        },
        "id": "5jpLyG-47W5-",
        "outputId": "2843a409-6b5d-4e48-f1a1-30d96e0aa4ce"
      },
      "id": "5jpLyG-47W5-",
      "execution_count": null,
      "outputs": [
        {
          "output_type": "stream",
          "name": "stdout",
          "text": [
            "              precision    recall  f1-score   support\n",
            "\n",
            "           0       1.00      1.00      1.00         3\n",
            "           1       1.00      1.00      1.00         3\n",
            "           3       1.00      1.00      1.00         7\n",
            "           4       1.00      1.00      1.00         4\n",
            "\n",
            "    accuracy                           1.00        17\n",
            "   macro avg       1.00      1.00      1.00        17\n",
            "weighted avg       1.00      1.00      1.00        17\n",
            "\n"
          ]
        }
      ]
    },
    {
      "cell_type": "markdown",
      "source": [],
      "metadata": {
        "id": "q8Q4pM2eAInW"
      },
      "id": "q8Q4pM2eAInW"
    },
    {
      "cell_type": "code",
      "source": [
        "url_unknown = 'https://github.com/kiddojazz/Multitext-Classification/blob/master/bbc_data.csv?raw=true'\n",
        "df_unknown = pd.read_csv(url)\n",
        "print(df_unknown.head(5))"
      ],
      "metadata": {
        "colab": {
          "base_uri": "https://localhost:8080/"
        },
        "id": "jYq7mc0m7Woq",
        "outputId": "556719cd-079e-4e52-cfd7-78b86f92fc78"
      },
      "id": "jYq7mc0m7Woq",
      "execution_count": null,
      "outputs": [
        {
          "output_type": "stream",
          "name": "stdout",
          "text": [
            "                                                data         labels\n",
            "0  Musicians to tackle US red tape  Musicians gro...  entertainment\n",
            "1  U2s desire to be number one  U2, who have won ...  entertainment\n",
            "2  Rocker Doherty in on-stage fight  Rock singer ...  entertainment\n",
            "3  Snicket tops US box office chart  The film ada...  entertainment\n",
            "4  Oceans Twelve raids box office  Oceans Twelve,...  entertainment\n"
          ]
        }
      ]
    },
    {
      "cell_type": "code",
      "source": [
        "unlabelled_df = df_unknown[df_unknown['labels'] == 'unknown']\n",
        "print(unlabelled_df.head())"
      ],
      "metadata": {
        "colab": {
          "base_uri": "https://localhost:8080/"
        },
        "id": "bEFG7zUH7Xx2",
        "outputId": "3052cf05-1cd5-4024-b751-4f38e9754cea"
      },
      "id": "bEFG7zUH7Xx2",
      "execution_count": null,
      "outputs": [
        {
          "output_type": "stream",
          "name": "stdout",
          "text": [
            "                                                 data   labels\n",
            "6   Pete Doherty misses bail deadline  Singer Pete...  unknown\n",
            "33  Bookmakers back Aviator for Oscar  The Aviator...  unknown\n",
            "42  Singer Christina Aguilera to wed  Pop star Chr...  unknown\n",
            "51  Elvis set to top UK singles chart  Rock n roll...  unknown\n",
            "53  Fantasy book wins Hollywood deal  A British au...  unknown\n"
          ]
        }
      ]
    },
    {
      "cell_type": "code",
      "source": [
        "unlabelled_data = unlabelled_df['data'].to_list()\n",
        "len(unlabelled_data)"
      ],
      "metadata": {
        "colab": {
          "base_uri": "https://localhost:8080/"
        },
        "id": "AUH3KLXV8P8s",
        "outputId": "f74bc677-b1b2-4fa1-c6c0-99b390923541"
      },
      "id": "AUH3KLXV8P8s",
      "execution_count": null,
      "outputs": [
        {
          "output_type": "execute_result",
          "data": {
            "text/plain": [
              "183"
            ]
          },
          "metadata": {},
          "execution_count": 47
        }
      ]
    },
    {
      "cell_type": "code",
      "source": [
        "unlabelled_data"
      ],
      "metadata": {
        "id": "71rxSDX99tPh"
      },
      "id": "71rxSDX99tPh",
      "execution_count": null,
      "outputs": []
    },
    {
      "cell_type": "code",
      "source": [
        "unlabelled_predictions = []\n",
        "for data in unlabelled_data:\n",
        "    unlabelled_predictions.append(predict_category(data))"
      ],
      "metadata": {
        "id": "6CqkFMVY9tMA"
      },
      "id": "6CqkFMVY9tMA",
      "execution_count": null,
      "outputs": []
    },
    {
      "cell_type": "code",
      "source": [
        "prediction_df = pd.DataFrame({\n",
        "    \"data\": unlabelled_data,\n",
        "    \"labels\": unlabelled_predictions,\n",
        "})\n",
        "\n",
        "prediction_df.to_csv(\"model_prediction.csv\", index=False)"
      ],
      "metadata": {
        "id": "Ue3IMsbw9tJy"
      },
      "id": "Ue3IMsbw9tJy",
      "execution_count": null,
      "outputs": []
    },
    {
      "cell_type": "markdown",
      "source": [
        "## Group Prediction"
      ],
      "metadata": {
        "id": "PB0BvoAgM3Gw"
      },
      "id": "PB0BvoAgM3Gw"
    },
    {
      "cell_type": "code",
      "source": [
        "# Load your CSV file into a DataFrame\n",
        "df = pd.read_csv(\"model_prediction.csv\")"
      ],
      "metadata": {
        "id": "ZvzohELTJ6cY"
      },
      "id": "ZvzohELTJ6cY",
      "execution_count": null,
      "outputs": []
    },
    {
      "cell_type": "code",
      "source": [
        "print(df.tail(20))"
      ],
      "metadata": {
        "colab": {
          "base_uri": "https://localhost:8080/"
        },
        "id": "aSOCW7lRJ6Y1",
        "outputId": "bd0b5c95-73c5-44ad-ccd7-2a3510ee2a67"
      },
      "id": "aSOCW7lRJ6Y1",
      "execution_count": null,
      "outputs": [
        {
          "output_type": "stream",
          "name": "stdout",
          "text": [
            "                                                  data  labels\n",
            "163  Local net TV takes off in Austria  An Austrian...       4\n",
            "164  Go-ahead for new internet names  The internet ...       4\n",
            "165  File-swappers ready new network  Legal attacks...       4\n",
            "166  Sony PSP tipped as a must-have  Sonys Playstat...       4\n",
            "167  Man auctions ad space on forehead  A 20-year-o...       1\n",
            "168  Have hackers recruited your PC?  More than one...       4\n",
            "169  Virus poses as Christmas e-mail  Security firm...       4\n",
            "170  Gadget market to grow in 2005  The explosion i...       4\n",
            "171  China ripe for media explosion  Asia is set to...       0\n",
            "172  Lifestyle governs mobile choice  Faster, bette...       4\n",
            "173  Apple laptop is greatest gadget  The Apple Pow...       4\n",
            "174  Online commons to spark debate  Online communi...       4\n",
            "175  T-Mobile bets on pocket office  T-Mobile has l...       4\n",
            "176  Apple iPod family expands market  Apple has ex...       4\n",
            "177  Mobile games come of age  The BBC News website...       4\n",
            "178  Attack prompts Bush site block  The official r...       4\n",
            "179  Speak easy plan for media players  Music and f...       4\n",
            "180  Smart search lets art fans browse  If you dont...       4\n",
            "181  Apple attacked over sources row  Civil liberti...       4\n",
            "182  Blind student hears in colour  A blind student...       4\n"
          ]
        }
      ]
    },
    {
      "cell_type": "code",
      "source": [
        "label_map = {\n",
        "        0: \"Business\",\n",
        "        1: \"Entertainment\",\n",
        "        2: \"Politics\",\n",
        "        3: \"Sport\",\n",
        "        4: \"Tech\"\n",
        "    }"
      ],
      "metadata": {
        "id": "s5aH8oh0J6V1"
      },
      "id": "s5aH8oh0J6V1",
      "execution_count": null,
      "outputs": []
    },
    {
      "cell_type": "code",
      "source": [
        "# Add a new column named 'Price'\n",
        "df['Prediction'] = df['labels'].map(label_map)\n",
        "print(df)"
      ],
      "metadata": {
        "colab": {
          "base_uri": "https://localhost:8080/"
        },
        "id": "bBcTv3FHJ6T7",
        "outputId": "cbcb02fa-a539-479a-bcf4-ee9d6ba093a6"
      },
      "id": "bBcTv3FHJ6T7",
      "execution_count": null,
      "outputs": [
        {
          "output_type": "stream",
          "name": "stdout",
          "text": [
            "                                                  data  labels     Prediction\n",
            "0    Pete Doherty misses bail deadline  Singer Pete...       1  Entertainment\n",
            "1    Bookmakers back Aviator for Oscar  The Aviator...       1  Entertainment\n",
            "2    Singer Christina Aguilera to wed  Pop star Chr...       1  Entertainment\n",
            "3    Elvis set to top UK singles chart  Rock n roll...       1  Entertainment\n",
            "4    Fantasy book wins Hollywood deal  A British au...       1  Entertainment\n",
            "..                                                 ...     ...            ...\n",
            "178  Attack prompts Bush site block  The official r...       4           Tech\n",
            "179  Speak easy plan for media players  Music and f...       4           Tech\n",
            "180  Smart search lets art fans browse  If you dont...       4           Tech\n",
            "181  Apple attacked over sources row  Civil liberti...       4           Tech\n",
            "182  Blind student hears in colour  A blind student...       4           Tech\n",
            "\n",
            "[183 rows x 3 columns]\n"
          ]
        }
      ]
    },
    {
      "cell_type": "code",
      "source": [
        "# Optionally, you can save the modified DataFrame to a new CSV file\n",
        "df.to_csv(\"prediction_category.csv\", index=False)\n"
      ],
      "metadata": {
        "id": "YktH0wuHGsJ7"
      },
      "id": "YktH0wuHGsJ7",
      "execution_count": null,
      "outputs": []
    },
    {
      "cell_type": "code",
      "source": [],
      "metadata": {
        "id": "4JunR6ecGsH9"
      },
      "id": "4JunR6ecGsH9",
      "execution_count": null,
      "outputs": []
    },
    {
      "cell_type": "code",
      "source": [],
      "metadata": {
        "id": "8E45cXrPGsDh"
      },
      "id": "8E45cXrPGsDh",
      "execution_count": null,
      "outputs": []
    },
    {
      "cell_type": "code",
      "source": [],
      "metadata": {
        "id": "qzlFEwr3Gr8T"
      },
      "id": "qzlFEwr3Gr8T",
      "execution_count": null,
      "outputs": []
    }
  ],
  "metadata": {
    "kernelspec": {
      "display_name": "Python 3",
      "name": "python3"
    },
    "language_info": {
      "codemirror_mode": {
        "name": "ipython",
        "version": 3
      },
      "file_extension": ".py",
      "mimetype": "text/x-python",
      "name": "python",
      "nbconvert_exporter": "python",
      "pygments_lexer": "ipython3",
      "version": "3.11.9"
    },
    "colab": {
      "provenance": [],
      "gpuType": "T4"
    },
    "accelerator": "GPU"
  },
  "nbformat": 4,
  "nbformat_minor": 5
}